{
  "nbformat": 4,
  "nbformat_minor": 0,
  "metadata": {
    "colab": {
      "name": "Cópia de DS_PPGOLD_LAB02.ipynb",
      "provenance": [],
      "collapsed_sections": [],
      "toc_visible": true,
      "include_colab_link": true
    },
    "kernelspec": {
      "name": "python3",
      "display_name": "Python 3"
    },
    "language_info": {
      "name": "python"
    }
  },
  "cells": [
    {
      "cell_type": "markdown",
      "metadata": {
        "id": "view-in-github",
        "colab_type": "text"
      },
      "source": [
        "<a href=\"https://colab.research.google.com/github/toshiakisaito/DataScience/blob/main/C%C3%B3pia_de_DS_PPGOLD_LAB02.ipynb\" target=\"_parent\"><img src=\"https://colab.research.google.com/assets/colab-badge.svg\" alt=\"Open In Colab\"/></a>"
      ]
    },
    {
      "cell_type": "markdown",
      "metadata": {
        "id": "f5a3UOE0Mve8"
      },
      "source": [
        "\n",
        "Lab 02 de Data Science\n",
        "\n",
        "\n"
      ]
    },
    {
      "cell_type": "code",
      "metadata": {
        "id": "Xwd5Kjare_FS"
      },
      "source": [
        "# import libraries\n",
        "import pandas as pd  # Biblioteca para os DataFrames \n",
        "import numpy as np   # Biblioteca Numérica"
      ],
      "execution_count": null,
      "outputs": []
    },
    {
      "cell_type": "code",
      "metadata": {
        "id": "Fr42I639MvfF",
        "colab": {
          "base_uri": "https://localhost:8080/"
        },
        "outputId": "962b2e4e-5a54-4cfe-fee4-87a494a43ca6"
      },
      "source": [
        "# Ler o arquivo, e atribua-o à variável \"df\".\n",
        "my_file = \"jira2.csv\"\n",
        "# Atribuir o arquivo a uma váriável DataFrame\n",
        "df = pd.read_csv( my_file,delimiter=\"|\")"
      ],
      "execution_count": null,
      "outputs": [
        {
          "output_type": "stream",
          "name": "stderr",
          "text": [
            "/usr/local/lib/python3.7/dist-packages/IPython/core/interactiveshell.py:2718: DtypeWarning: Columns (13,24,45,155,157,929,1088,1098,1101,1124,1465,1471,1472,1555,1675,1676,1829,2006,2009,2260,2261) have mixed types.Specify dtype option on import or set low_memory=False.\n",
            "  interactivity=interactivity, compiler=compiler, result=result)\n"
          ]
        }
      ]
    },
    {
      "cell_type": "code",
      "metadata": {
        "id": "3-3MN3XPFNPH",
        "colab": {
          "base_uri": "https://localhost:8080/"
        },
        "outputId": "fc793b1d-96e3-4c1b-dce0-bc6713c64b69"
      },
      "source": [
        "from google.colab import drive\n",
        "drive.mount('/content/drive')"
      ],
      "execution_count": null,
      "outputs": [
        {
          "output_type": "stream",
          "name": "stdout",
          "text": [
            "Mounted at /content/drive\n"
          ]
        }
      ]
    },
    {
      "cell_type": "code",
      "metadata": {
        "id": "7OCEnDapkFDb"
      },
      "source": [
        "# mostrar as 10 primeiras linhas usando o método dataframe.head()\n",
        "print(\"As primeiras 10 linhas do dataframe são:\") \n",
        "df.head(10)\n",
        "df."
      ],
      "execution_count": null,
      "outputs": []
    },
    {
      "cell_type": "code",
      "metadata": {
        "id": "1ub44yC3k2Bu"
      },
      "source": [
        "# mostrar as 10 últimas linhas usando o método dataframe.tail()\n",
        "print(\"As últimas 10 linhas do dataframe são:\") \n",
        "df.tail(10)"
      ],
      "execution_count": null,
      "outputs": []
    },
    {
      "cell_type": "code",
      "metadata": {
        "id": "V4hwwmx5MvfN"
      },
      "source": [
        "df=df.replace('?',np.NaN)\n",
        "df.head(10)\n"
      ],
      "execution_count": null,
      "outputs": []
    },
    {
      "cell_type": "code",
      "metadata": {
        "id": "6hM5dM2WFR0V"
      },
      "source": [
        "df=df.replace(['WhiT'],'white')\n",
        "df=df.replace(['WHITE'],'white')\n",
        "df=df.replace(['RED'],'red')\n",
        "df=df.replace(['Red'],'red')\n",
        "df.head(10)"
      ],
      "execution_count": null,
      "outputs": []
    },
    {
      "cell_type": "code",
      "metadata": {
        "id": "Uv-RZxEBMvfQ"
      },
      "source": [
        "# Imprimir os tipos de dados de cada coluna do DataFrame\n",
        "df.dtypes"
      ],
      "execution_count": null,
      "outputs": []
    },
    {
      "cell_type": "code",
      "metadata": {
        "id": "z-Xpwox7QGnE"
      },
      "source": [
        "df.info(verbose=True)\n"
      ],
      "execution_count": null,
      "outputs": []
    },
    {
      "cell_type": "code",
      "metadata": {
        "id": "97CLE_YrMvfR"
      },
      "source": [
        "# Este método fornecerá várias estatísticas resumidas, excluindo valores NaN\n",
        "\n",
        "df.describe()"
      ],
      "execution_count": null,
      "outputs": []
    },
    {
      "cell_type": "code",
      "metadata": {
        "id": "NynK-1u4MvfR"
      },
      "source": [
        "# describe all the columns in \"df\" \n",
        "df.describe(include = \"all\")"
      ],
      "execution_count": null,
      "outputs": []
    },
    {
      "cell_type": "code",
      "metadata": {
        "id": "LiM-oW1YMvfU"
      },
      "source": [
        "# look at the info of \"df\"\n",
        "df.info()"
      ],
      "execution_count": null,
      "outputs": []
    },
    {
      "cell_type": "code",
      "metadata": {
        "id": "QG17x5XJLx-D"
      },
      "source": [
        "#Trocando o tipo das colunas com erro\n",
        "df['chlorides'] = df['chlorides'].astype(float) \n",
        "df['density'] = df['density'].astype(float) \n",
        "df['pH'] = df['pH'].astype(float) \n",
        "df['sulphates'] = df['sulphates'].astype(float) \n",
        "df['alcohol'] = df['alcohol'].astype(float) \n",
        "df['quality'] = df['quality'].astype(float) \n",
        "df.info()"
      ],
      "execution_count": null,
      "outputs": []
    },
    {
      "cell_type": "code",
      "metadata": {
        "id": "ngu5WHbvQqLW"
      },
      "source": [
        "df[['Issue key','Custom field (Login)']]"
      ],
      "execution_count": null,
      "outputs": []
    },
    {
      "cell_type": "code",
      "metadata": {
        "colab": {
          "base_uri": "https://localhost:8080/"
        },
        "id": "1uW-xLwpTUpD",
        "outputId": "9ebb134c-da9e-4392-f426-23bb170a4c18"
      },
      "source": [
        "pd.get_option(\"max_rows\")\n",
        "pd.set_option(\"min_rows\", 100)\n",
        "pd.set_option(\"max_rows\", 600)\n",
        "pd.get_option(\"max_rows\")\n",
        "pd.get_option(\"min_rows\")"
      ],
      "execution_count": null,
      "outputs": [
        {
          "output_type": "execute_result",
          "data": {
            "text/plain": [
              "100"
            ]
          },
          "metadata": {},
          "execution_count": 23
        }
      ]
    },
    {
      "cell_type": "code",
      "metadata": {
        "id": "dh2aUXXeVqo1"
      },
      "source": [
        "#df[['Issue key','Custom field (Login)']]\n",
        "header = [\"Issue key\", \"Custom field (Login)\"]\n",
        "\n",
        "df.to_csv('teste.csv', columns = header)"
      ],
      "execution_count": null,
      "outputs": []
    },
    {
      "cell_type": "code",
      "metadata": {
        "id": "r8XUDoFpoQfB"
      },
      "source": [
        "path = \"/content/winequality_tratado.csv\"\n",
        "df.to_csv(path, index = False)"
      ],
      "execution_count": null,
      "outputs": []
    }
  ]
}